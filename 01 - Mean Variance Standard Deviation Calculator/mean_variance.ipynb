{
 "cells": [
  {
   "cell_type": "code",
   "execution_count": 1,
   "metadata": {},
   "outputs": [],
   "source": [
    "import numpy as np"
   ]
  },
  {
   "cell_type": "code",
   "execution_count": 2,
   "metadata": {},
   "outputs": [],
   "source": [
    "def calculate(list):\n",
    "\n",
    "    if len(list) != 9:\n",
    "        raise ValueError(\"List must contain nine numbers.\")\n",
    "    else:\n",
    "        calculations = dict()\n",
    "        array = np.asarray(list).reshape(3,3)\n",
    "        calculations[\"mean\"] = [array.mean(axis=0).tolist(), array.mean(axis=1).tolist(), array.mean().tolist()]\n",
    "        calculations[\"variance\"] = [array.var(axis=0).tolist(), array.var(axis=1).tolist(), array.var().tolist()]\n",
    "        calculations[\"standard deviation\"] = [array.std(axis=0).tolist(), array.std(axis=1).tolist(), array.std().tolist()]\n",
    "        calculations[\"max\"] = [array.max(axis=0).tolist(), array.max(axis=1).tolist(), array.max().tolist()]\n",
    "        calculations[\"min\"] = [array.min(axis=0).tolist(), array.min(axis=1).tolist(), array.min().tolist()]\n",
    "        calculations[\"sum\"] = [array.sum(axis=0).tolist(), array.sum(axis=1).tolist(), array.sum().tolist()]\n",
    "\n",
    "    return calculations"
   ]
  },
  {
   "cell_type": "code",
   "execution_count": 3,
   "metadata": {},
   "outputs": [
    {
     "name": "stdout",
     "output_type": "stream",
     "text": [
      "{'mean': [[3.0, 4.0, 5.0], [1.0, 4.0, 7.0], 4.0], 'variance': [[6.0, 6.0, 6.0], [0.6666666666666666, 0.6666666666666666, 0.6666666666666666], 6.666666666666667], 'standard deviation': [[2.449489742783178, 2.449489742783178, 2.449489742783178], [0.816496580927726, 0.816496580927726, 0.816496580927726], 2.581988897471611], 'max': [[6, 7, 8], [2, 5, 8], 8], 'min': [[0, 1, 2], [0, 3, 6], 0], 'sum': [[9, 12, 15], [3, 12, 21], 36]}\n"
     ]
    }
   ],
   "source": [
    "print(calculate([0,1,2,3,4,5,6,7,8]))"
   ]
  },
  {
   "cell_type": "code",
   "execution_count": null,
   "metadata": {},
   "outputs": [],
   "source": []
  }
 ],
 "metadata": {
  "kernelspec": {
   "display_name": "Python 3",
   "language": "python",
   "name": "python3"
  },
  "language_info": {
   "codemirror_mode": {
    "name": "ipython",
    "version": 3
   },
   "file_extension": ".py",
   "mimetype": "text/x-python",
   "name": "python",
   "nbconvert_exporter": "python",
   "pygments_lexer": "ipython3",
   "version": "3.9.16"
  },
  "orig_nbformat": 4,
  "vscode": {
   "interpreter": {
    "hash": "397704579725e15f5c7cb49fe5f0341eb7531c82d19f2c29d197e8b64ab5776b"
   }
  }
 },
 "nbformat": 4,
 "nbformat_minor": 2
}
